{
  "nbformat": 4,
  "nbformat_minor": 0,
  "metadata": {
    "colab": {
      "provenance": []
    },
    "kernelspec": {
      "name": "python3",
      "display_name": "Python 3"
    },
    "language_info": {
      "name": "python"
    }
  },
  "cells": [
    {
      "cell_type": "code",
      "execution_count": null,
      "metadata": {
        "colab": {
          "base_uri": "https://localhost:8080/",
          "height": 424
        },
        "id": "YrAB5ambs_AH",
        "outputId": "ddb4171d-28e5-4221-cab0-b98d732730dc"
      },
      "outputs": [
        {
          "output_type": "execute_result",
          "data": {
            "text/plain": [
              "     Sl_No  Customer Key  Avg_Credit_Limit  Total_Credit_Cards  \\\n",
              "0        1         87073            100000                   2   \n",
              "1        2         38414             50000                   3   \n",
              "2        3         17341             50000                   7   \n",
              "3        4         40496             30000                   5   \n",
              "4        5         47437            100000                   6   \n",
              "..     ...           ...               ...                 ...   \n",
              "655    656         51108             99000                  10   \n",
              "656    657         60732             84000                  10   \n",
              "657    658         53834            145000                   8   \n",
              "658    659         80655            172000                  10   \n",
              "659    660         80150            167000                   9   \n",
              "\n",
              "     Total_visits_bank  Total_visits_online  Total_calls_made  \n",
              "0                    1                    1                 0  \n",
              "1                    0                   10                 9  \n",
              "2                    1                    3                 4  \n",
              "3                    1                    1                 4  \n",
              "4                    0                   12                 3  \n",
              "..                 ...                  ...               ...  \n",
              "655                  1                   10                 0  \n",
              "656                  1                   13                 2  \n",
              "657                  1                    9                 1  \n",
              "658                  1                   15                 0  \n",
              "659                  0                   12                 2  \n",
              "\n",
              "[660 rows x 7 columns]"
            ],
            "text/html": [
              "\n",
              "  <div id=\"df-dc3f7e30-032d-4919-9f09-f2934b28a072\">\n",
              "    <div class=\"colab-df-container\">\n",
              "      <div>\n",
              "<style scoped>\n",
              "    .dataframe tbody tr th:only-of-type {\n",
              "        vertical-align: middle;\n",
              "    }\n",
              "\n",
              "    .dataframe tbody tr th {\n",
              "        vertical-align: top;\n",
              "    }\n",
              "\n",
              "    .dataframe thead th {\n",
              "        text-align: right;\n",
              "    }\n",
              "</style>\n",
              "<table border=\"1\" class=\"dataframe\">\n",
              "  <thead>\n",
              "    <tr style=\"text-align: right;\">\n",
              "      <th></th>\n",
              "      <th>Sl_No</th>\n",
              "      <th>Customer Key</th>\n",
              "      <th>Avg_Credit_Limit</th>\n",
              "      <th>Total_Credit_Cards</th>\n",
              "      <th>Total_visits_bank</th>\n",
              "      <th>Total_visits_online</th>\n",
              "      <th>Total_calls_made</th>\n",
              "    </tr>\n",
              "  </thead>\n",
              "  <tbody>\n",
              "    <tr>\n",
              "      <th>0</th>\n",
              "      <td>1</td>\n",
              "      <td>87073</td>\n",
              "      <td>100000</td>\n",
              "      <td>2</td>\n",
              "      <td>1</td>\n",
              "      <td>1</td>\n",
              "      <td>0</td>\n",
              "    </tr>\n",
              "    <tr>\n",
              "      <th>1</th>\n",
              "      <td>2</td>\n",
              "      <td>38414</td>\n",
              "      <td>50000</td>\n",
              "      <td>3</td>\n",
              "      <td>0</td>\n",
              "      <td>10</td>\n",
              "      <td>9</td>\n",
              "    </tr>\n",
              "    <tr>\n",
              "      <th>2</th>\n",
              "      <td>3</td>\n",
              "      <td>17341</td>\n",
              "      <td>50000</td>\n",
              "      <td>7</td>\n",
              "      <td>1</td>\n",
              "      <td>3</td>\n",
              "      <td>4</td>\n",
              "    </tr>\n",
              "    <tr>\n",
              "      <th>3</th>\n",
              "      <td>4</td>\n",
              "      <td>40496</td>\n",
              "      <td>30000</td>\n",
              "      <td>5</td>\n",
              "      <td>1</td>\n",
              "      <td>1</td>\n",
              "      <td>4</td>\n",
              "    </tr>\n",
              "    <tr>\n",
              "      <th>4</th>\n",
              "      <td>5</td>\n",
              "      <td>47437</td>\n",
              "      <td>100000</td>\n",
              "      <td>6</td>\n",
              "      <td>0</td>\n",
              "      <td>12</td>\n",
              "      <td>3</td>\n",
              "    </tr>\n",
              "    <tr>\n",
              "      <th>...</th>\n",
              "      <td>...</td>\n",
              "      <td>...</td>\n",
              "      <td>...</td>\n",
              "      <td>...</td>\n",
              "      <td>...</td>\n",
              "      <td>...</td>\n",
              "      <td>...</td>\n",
              "    </tr>\n",
              "    <tr>\n",
              "      <th>655</th>\n",
              "      <td>656</td>\n",
              "      <td>51108</td>\n",
              "      <td>99000</td>\n",
              "      <td>10</td>\n",
              "      <td>1</td>\n",
              "      <td>10</td>\n",
              "      <td>0</td>\n",
              "    </tr>\n",
              "    <tr>\n",
              "      <th>656</th>\n",
              "      <td>657</td>\n",
              "      <td>60732</td>\n",
              "      <td>84000</td>\n",
              "      <td>10</td>\n",
              "      <td>1</td>\n",
              "      <td>13</td>\n",
              "      <td>2</td>\n",
              "    </tr>\n",
              "    <tr>\n",
              "      <th>657</th>\n",
              "      <td>658</td>\n",
              "      <td>53834</td>\n",
              "      <td>145000</td>\n",
              "      <td>8</td>\n",
              "      <td>1</td>\n",
              "      <td>9</td>\n",
              "      <td>1</td>\n",
              "    </tr>\n",
              "    <tr>\n",
              "      <th>658</th>\n",
              "      <td>659</td>\n",
              "      <td>80655</td>\n",
              "      <td>172000</td>\n",
              "      <td>10</td>\n",
              "      <td>1</td>\n",
              "      <td>15</td>\n",
              "      <td>0</td>\n",
              "    </tr>\n",
              "    <tr>\n",
              "      <th>659</th>\n",
              "      <td>660</td>\n",
              "      <td>80150</td>\n",
              "      <td>167000</td>\n",
              "      <td>9</td>\n",
              "      <td>0</td>\n",
              "      <td>12</td>\n",
              "      <td>2</td>\n",
              "    </tr>\n",
              "  </tbody>\n",
              "</table>\n",
              "<p>660 rows × 7 columns</p>\n",
              "</div>\n",
              "      <button class=\"colab-df-convert\" onclick=\"convertToInteractive('df-dc3f7e30-032d-4919-9f09-f2934b28a072')\"\n",
              "              title=\"Convert this dataframe to an interactive table.\"\n",
              "              style=\"display:none;\">\n",
              "        \n",
              "  <svg xmlns=\"http://www.w3.org/2000/svg\" height=\"24px\"viewBox=\"0 0 24 24\"\n",
              "       width=\"24px\">\n",
              "    <path d=\"M0 0h24v24H0V0z\" fill=\"none\"/>\n",
              "    <path d=\"M18.56 5.44l.94 2.06.94-2.06 2.06-.94-2.06-.94-.94-2.06-.94 2.06-2.06.94zm-11 1L8.5 8.5l.94-2.06 2.06-.94-2.06-.94L8.5 2.5l-.94 2.06-2.06.94zm10 10l.94 2.06.94-2.06 2.06-.94-2.06-.94-.94-2.06-.94 2.06-2.06.94z\"/><path d=\"M17.41 7.96l-1.37-1.37c-.4-.4-.92-.59-1.43-.59-.52 0-1.04.2-1.43.59L10.3 9.45l-7.72 7.72c-.78.78-.78 2.05 0 2.83L4 21.41c.39.39.9.59 1.41.59.51 0 1.02-.2 1.41-.59l7.78-7.78 2.81-2.81c.8-.78.8-2.07 0-2.86zM5.41 20L4 18.59l7.72-7.72 1.47 1.35L5.41 20z\"/>\n",
              "  </svg>\n",
              "      </button>\n",
              "      \n",
              "  <style>\n",
              "    .colab-df-container {\n",
              "      display:flex;\n",
              "      flex-wrap:wrap;\n",
              "      gap: 12px;\n",
              "    }\n",
              "\n",
              "    .colab-df-convert {\n",
              "      background-color: #E8F0FE;\n",
              "      border: none;\n",
              "      border-radius: 50%;\n",
              "      cursor: pointer;\n",
              "      display: none;\n",
              "      fill: #1967D2;\n",
              "      height: 32px;\n",
              "      padding: 0 0 0 0;\n",
              "      width: 32px;\n",
              "    }\n",
              "\n",
              "    .colab-df-convert:hover {\n",
              "      background-color: #E2EBFA;\n",
              "      box-shadow: 0px 1px 2px rgba(60, 64, 67, 0.3), 0px 1px 3px 1px rgba(60, 64, 67, 0.15);\n",
              "      fill: #174EA6;\n",
              "    }\n",
              "\n",
              "    [theme=dark] .colab-df-convert {\n",
              "      background-color: #3B4455;\n",
              "      fill: #D2E3FC;\n",
              "    }\n",
              "\n",
              "    [theme=dark] .colab-df-convert:hover {\n",
              "      background-color: #434B5C;\n",
              "      box-shadow: 0px 1px 3px 1px rgba(0, 0, 0, 0.15);\n",
              "      filter: drop-shadow(0px 1px 2px rgba(0, 0, 0, 0.3));\n",
              "      fill: #FFFFFF;\n",
              "    }\n",
              "  </style>\n",
              "\n",
              "      <script>\n",
              "        const buttonEl =\n",
              "          document.querySelector('#df-dc3f7e30-032d-4919-9f09-f2934b28a072 button.colab-df-convert');\n",
              "        buttonEl.style.display =\n",
              "          google.colab.kernel.accessAllowed ? 'block' : 'none';\n",
              "\n",
              "        async function convertToInteractive(key) {\n",
              "          const element = document.querySelector('#df-dc3f7e30-032d-4919-9f09-f2934b28a072');\n",
              "          const dataTable =\n",
              "            await google.colab.kernel.invokeFunction('convertToInteractive',\n",
              "                                                     [key], {});\n",
              "          if (!dataTable) return;\n",
              "\n",
              "          const docLinkHtml = 'Like what you see? Visit the ' +\n",
              "            '<a target=\"_blank\" href=https://colab.research.google.com/notebooks/data_table.ipynb>data table notebook</a>'\n",
              "            + ' to learn more about interactive tables.';\n",
              "          element.innerHTML = '';\n",
              "          dataTable['output_type'] = 'display_data';\n",
              "          await google.colab.output.renderOutput(dataTable, element);\n",
              "          const docLink = document.createElement('div');\n",
              "          docLink.innerHTML = docLinkHtml;\n",
              "          element.appendChild(docLink);\n",
              "        }\n",
              "      </script>\n",
              "    </div>\n",
              "  </div>\n",
              "  "
            ]
          },
          "metadata": {},
          "execution_count": 2
        }
      ],
      "source": [
        "import pandas as pd\n",
        "df=pd.read_csv(\"/content/Credit Card Customer Data.csv\")\n",
        "df"
      ]
    },
    {
      "cell_type": "code",
      "source": [
        "df.shape"
      ],
      "metadata": {
        "colab": {
          "base_uri": "https://localhost:8080/"
        },
        "id": "E3_mi7O8vnUg",
        "outputId": "ac01f244-0da5-4a20-d7f9-0a40c58635d4"
      },
      "execution_count": null,
      "outputs": [
        {
          "output_type": "execute_result",
          "data": {
            "text/plain": [
              "(660, 7)"
            ]
          },
          "metadata": {},
          "execution_count": 3
        }
      ]
    },
    {
      "cell_type": "code",
      "source": [
        "df.info()"
      ],
      "metadata": {
        "colab": {
          "base_uri": "https://localhost:8080/"
        },
        "id": "m7BqO7fbv13H",
        "outputId": "764268b8-db33-4c99-b34a-fd557a722b71"
      },
      "execution_count": null,
      "outputs": [
        {
          "output_type": "stream",
          "name": "stdout",
          "text": [
            "<class 'pandas.core.frame.DataFrame'>\n",
            "RangeIndex: 660 entries, 0 to 659\n",
            "Data columns (total 7 columns):\n",
            " #   Column               Non-Null Count  Dtype\n",
            "---  ------               --------------  -----\n",
            " 0   Sl_No                660 non-null    int64\n",
            " 1   Customer Key         660 non-null    int64\n",
            " 2   Avg_Credit_Limit     660 non-null    int64\n",
            " 3   Total_Credit_Cards   660 non-null    int64\n",
            " 4   Total_visits_bank    660 non-null    int64\n",
            " 5   Total_visits_online  660 non-null    int64\n",
            " 6   Total_calls_made     660 non-null    int64\n",
            "dtypes: int64(7)\n",
            "memory usage: 36.2 KB\n"
          ]
        }
      ]
    },
    {
      "cell_type": "code",
      "source": [
        "x=df.iloc[:,3:5].values\n",
        "x"
      ],
      "metadata": {
        "colab": {
          "base_uri": "https://localhost:8080/"
        },
        "id": "B5u1U0FwzuOz",
        "outputId": "3a990792-4248-4ca9-8f2d-d92f8a2066db"
      },
      "execution_count": null,
      "outputs": [
        {
          "output_type": "execute_result",
          "data": {
            "text/plain": [
              "array([[ 2,  1],\n",
              "       [ 3,  0],\n",
              "       [ 7,  1],\n",
              "       ...,\n",
              "       [ 8,  1],\n",
              "       [10,  1],\n",
              "       [ 9,  0]])"
            ]
          },
          "metadata": {},
          "execution_count": 18
        }
      ]
    },
    {
      "cell_type": "code",
      "source": [
        "import matplotlib.pyplot as plt\n",
        "plt.scatter(df['Total_Credit_Cards'],df['Total_visits_bank'])"
      ],
      "metadata": {
        "colab": {
          "base_uri": "https://localhost:8080/",
          "height": 282
        },
        "id": "_4nXrTBBv465",
        "outputId": "dc2515b6-0de4-4da9-da64-c4bd418df55b"
      },
      "execution_count": null,
      "outputs": [
        {
          "output_type": "execute_result",
          "data": {
            "text/plain": [
              "<matplotlib.collections.PathCollection at 0x7f51ef5e5790>"
            ]
          },
          "metadata": {},
          "execution_count": 47
        },
        {
          "output_type": "display_data",
          "data": {
            "text/plain": [
              "<Figure size 432x288 with 1 Axes>"
            ],
            "image/png": "[encoded data removed]"
          },
          "metadata": {
            "needs_background": "light"
          }
        }
      ]
    },
    {
      "cell_type": "code",
      "source": [
        "import numpy as np\n",
        "np.sqrt(600)"
      ],
      "metadata": {
        "colab": {
          "base_uri": "https://localhost:8080/"
        },
        "id": "RqekMbNny43Q",
        "outputId": "5bc3d995-e6fb-4f4d-a4c8-fae0fc1b8563"
      },
      "execution_count": null,
      "outputs": [
        {
          "output_type": "execute_result",
          "data": {
            "text/plain": [
              "24.49489742783178"
            ]
          },
          "metadata": {},
          "execution_count": 20
        }
      ]
    },
    {
      "cell_type": "code",
      "source": [
        "from sklearn.cluster import KMeans\n",
        "k=range(2,25)\n",
        "\n",
        "sse=[]\n",
        "\n",
        "for i in k:\n",
        "  model_demo=KMeans(n_clusters=i,random_state=0)\n",
        "  model_demo.fit(x)\n",
        "  sse.append(model_demo.inertia_)\n",
        "plt.scatter(k,sse)\n",
        "plt.plot(k,sse)"
      ],
      "metadata": {
        "colab": {
          "base_uri": "https://localhost:8080/",
          "height": 282
        },
        "id": "Vho4cPaqzAzx",
        "outputId": "ab5071f6-1554-4178-a932-079747532e20"
      },
      "execution_count": null,
      "outputs": [
        {
          "output_type": "execute_result",
          "data": {
            "text/plain": [
              "[<matplotlib.lines.Line2D at 0x7f51efda2cd0>]"
            ]
          },
          "metadata": {},
          "execution_count": 27
        },
        {
          "output_type": "display_data",
          "data": {
            "text/plain": [
              "<Figure size 432x288 with 1 Axes>"
            ],
            "image/png": "[encoded data removed]"
          },
          "metadata": {
            "needs_background": "light"
          }
        }
      ]
    },
    {
      "cell_type": "code",
      "source": [
        "from sklearn.metrics import silhouette_score\n",
        "k=range(2,25)\n",
        "for i in k:\n",
        "  model_demo=KMeans(n_clusters=i,random_state=0)\n",
        "  model_demo.fit(x)\n",
        "  y_pred = model_demo.predict(x)\n",
        "  print(f\"{i} Clusters, Score={silhouette_score(x,y_pred)}\")\n",
        "  plt.bar(i,silhouette_score(x,y_pred))"
      ],
      "metadata": {
        "colab": {
          "base_uri": "https://localhost:8080/",
          "height": 664
        },
        "id": "RAOsE-3C0-a_",
        "outputId": "751cf4cf-cd50-439d-d28a-0a1c73829b6d"
      },
      "execution_count": null,
      "outputs": [
        {
          "output_type": "stream",
          "name": "stdout",
          "text": [
            "2 Clusters, Score=0.4823572928276957\n",
            "3 Clusters, Score=0.5024545102943476\n",
            "4 Clusters, Score=0.43580346365355527\n",
            "5 Clusters, Score=0.4253762711920125\n",
            "6 Clusters, Score=0.4723182565635393\n",
            "7 Clusters, Score=0.4873673680838732\n",
            "8 Clusters, Score=0.49951584012043887\n",
            "9 Clusters, Score=0.49536426835806624\n",
            "10 Clusters, Score=0.4770245750873183\n",
            "11 Clusters, Score=0.5016716937881869\n",
            "12 Clusters, Score=0.5056547760806194\n",
            "13 Clusters, Score=0.5189904267590486\n",
            "14 Clusters, Score=0.5146333393242162\n",
            "15 Clusters, Score=0.5728049711673703\n",
            "16 Clusters, Score=0.5839946944773697\n",
            "17 Clusters, Score=0.6074594778582099\n",
            "18 Clusters, Score=0.632038094012964\n",
            "19 Clusters, Score=0.6509287898526334\n",
            "20 Clusters, Score=0.6992153587219309\n",
            "21 Clusters, Score=0.7226226572230938\n",
            "22 Clusters, Score=0.754908769432163\n",
            "23 Clusters, Score=0.7947992484612564\n",
            "24 Clusters, Score=0.8140298992386354\n"
          ]
        },
        {
          "output_type": "display_data",
          "data": {
            "text/plain": [
              "<Figure size 432x288 with 1 Axes>"
            ],
            "image/png": "[encoded data removed]"
          },
          "metadata": {
            "needs_background": "light"
          }
        }
      ]
    },
    {
      "cell_type": "code",
      "source": [
        "k=24\n",
        "from sklearn.cluster import KMeans\n",
        "\n",
        "model=KMeans(n_clusters=k, random_state=0)\n",
        "model.fit(x)\n"
      ],
      "metadata": {
        "colab": {
          "base_uri": "https://localhost:8080/"
        },
        "id": "db-NMG5G4FZo",
        "outputId": "f1010657-4ef0-4e63-93ca-6a98cda070cf"
      },
      "execution_count": null,
      "outputs": [
        {
          "output_type": "execute_result",
          "data": {
            "text/plain": [
              "KMeans(n_clusters=24, random_state=0)"
            ]
          },
          "metadata": {},
          "execution_count": 29
        }
      ]
    },
    {
      "cell_type": "code",
      "source": [
        "y=model.predict(x)\n",
        "y"
      ],
      "metadata": {
        "colab": {
          "base_uri": "https://localhost:8080/"
        },
        "id": "GpzCNErm4yz1",
        "outputId": "e80e99e6-ef25-4f5a-e794-155c7eeb8958"
      },
      "execution_count": null,
      "outputs": [
        {
          "output_type": "execute_result",
          "data": {
            "text/plain": [
              "array([23, 13,  8, 20,  8, 13, 20, 13,  6, 13, 13, 13, 12, 22,  1,  6, 23,\n",
              "        6,  1, 20,  1,  6, 20, 22,  6, 22, 13,  1,  6, 13,  3,  3, 21, 21,\n",
              "       20,  6,  3,  6, 20,  1,  5, 22,  5,  6,  5, 20, 12, 12, 13,  1, 21,\n",
              "       23, 23, 13,  6, 12, 21,  6, 21, 20, 20, 12, 21, 13, 21, 22,  6,  5,\n",
              "       12, 12, 12,  1,  3,  3,  6,  3, 12,  3,  6, 22,  1,  3, 22,  3,  1,\n",
              "       22, 20, 20, 22,  5, 23, 22, 22, 12,  1, 12,  1,  6, 22, 23, 21, 22,\n",
              "       20, 21, 23, 23, 23,  1,  1,  5,  5,  6, 20, 20, 13,  1, 21, 13,  3,\n",
              "       13,  5, 13,  1, 22,  1, 23, 20,  1, 20,  3,  3, 13, 13,  3, 20,  1,\n",
              "       13,  6, 22, 21, 13,  6, 20, 23,  5, 13, 23,  1, 12, 23,  1, 22,  1,\n",
              "       13,  5, 22,  1, 12,  1, 12, 21,  1,  6, 13, 13, 21, 13,  5, 22,  3,\n",
              "       23,  1,  6, 23, 20, 21,  1, 13, 22,  1, 21, 13, 13, 12, 13, 13, 12,\n",
              "        1,  6,  1, 13, 23, 13,  1,  6, 23,  6, 22, 22,  5, 13, 21, 21,  6,\n",
              "        1, 21, 23,  5,  6, 21, 20,  3,  3, 21, 20, 13,  3, 13,  3, 23, 21,\n",
              "        1, 20,  1, 20, 20, 12,  1,  9,  9, 17,  0,  4,  9, 11,  7,  7, 18,\n",
              "       14, 14,  5, 17, 16, 18, 15,  5, 17, 15, 11, 11,  0, 19, 17, 19, 16,\n",
              "        4, 15, 18,  0, 10, 17,  0,  4,  5, 10,  7,  7, 18, 11,  4, 17,  9,\n",
              "       19, 11,  4, 19, 17, 17,  7, 11, 18,  9,  0, 16,  9,  4, 17,  9, 14,\n",
              "       11,  0, 15, 16, 14, 11, 18, 10,  7, 11, 11, 11, 18,  5, 17, 10, 11,\n",
              "        0,  0, 17, 11, 17,  0, 15,  5, 15, 16, 18,  4, 18, 19, 11,  7,  0,\n",
              "        5, 17, 10, 10,  4, 10,  7,  0, 11, 15,  4,  7, 11, 10,  9, 19,  0,\n",
              "        0, 16, 18,  0, 14,  7,  0, 19, 10, 15, 14,  9, 14,  4,  7,  4, 11,\n",
              "       10, 14,  5,  0,  0,  4, 14, 18,  7,  7, 16, 16, 18,  0, 14, 11, 17,\n",
              "       11,  0,  4, 14, 11,  9,  9,  5,  0,  0, 10,  7, 14, 15,  4, 17,  5,\n",
              "       17, 10,  5,  7, 17, 18,  0, 19, 15, 15, 10,  5, 16,  9, 15, 19,  4,\n",
              "        0,  9, 14, 17, 11,  7, 16, 15, 14,  4, 14, 18,  0,  4,  0,  0,  4,\n",
              "       19,  9,  7, 10, 10, 18, 11, 19,  0,  5, 17,  5,  0,  9,  7,  0, 19,\n",
              "       16, 11, 11,  7,  4, 14, 10, 16, 15, 10,  4, 10, 16, 19, 11, 14,  9,\n",
              "        7, 18, 10, 10, 17,  5,  4, 19, 10,  4, 19,  4,  0,  0,  0, 16,  4,\n",
              "       11,  7,  0, 15, 19, 15,  5,  4,  4, 15,  5,  7, 18,  7,  5, 17, 18,\n",
              "       19, 16, 15,  0,  5, 10, 18,  4,  0, 19,  0, 11, 14, 11,  0,  9, 10,\n",
              "       19, 19, 19,  0, 14, 10,  7,  5,  7,  9, 18, 16,  7,  0, 15,  4,  5,\n",
              "       14, 16,  0, 16, 16, 16,  0, 18, 17, 10, 15,  7, 10,  9,  7,  4, 14,\n",
              "        0,  7,  9, 17, 16,  7,  7,  9, 15,  7, 14, 17, 17,  7, 11,  7,  0,\n",
              "        7, 15,  4,  7, 11, 11, 15, 11, 18,  5,  9,  7,  9, 16,  0,  0,  0,\n",
              "        7, 16, 17, 11, 11, 19, 18,  7, 15, 16, 16, 17, 19, 14,  4, 17,  5,\n",
              "        7, 18,  7,  4, 19,  7,  4,  7,  0, 15, 14,  0,  0, 10, 16,  9,  7,\n",
              "        2,  2,  8,  2,  2,  8,  8,  8,  2,  2,  2,  2,  8,  8,  2,  2,  2,\n",
              "        8,  2,  8,  8,  8,  8,  2,  2,  2,  8,  8,  8,  2,  2,  2,  2,  2,\n",
              "        8,  2,  8,  2,  2,  2,  8,  2,  2,  2,  2,  8,  2,  2],\n",
              "      dtype=int32)"
            ]
          },
          "metadata": {},
          "execution_count": 30
        }
      ]
    },
    {
      "cell_type": "code",
      "source": [
        "y.size"
      ],
      "metadata": {
        "colab": {
          "base_uri": "https://localhost:8080/"
        },
        "id": "b_Cn8xyz6A1m",
        "outputId": "41376267-ecde-4f6c-af44-f8ac2c26d2d6"
      },
      "execution_count": null,
      "outputs": [
        {
          "output_type": "execute_result",
          "data": {
            "text/plain": [
              "660"
            ]
          },
          "metadata": {},
          "execution_count": 32
        }
      ]
    },
    {
      "cell_type": "code",
      "source": [
        "x[y==1,0]"
      ],
      "metadata": {
        "colab": {
          "base_uri": "https://localhost:8080/"
        },
        "id": "O_y0fSY748ig",
        "outputId": "aa286a80-38a5-4f5a-c369-0564e8d305a0"
      },
      "execution_count": null,
      "outputs": [
        {
          "output_type": "execute_result",
          "data": {
            "text/plain": [
              "array([2, 2, 3, 2, 2, 3, 3, 2, 3, 2, 3, 2, 3, 2, 2, 2, 3, 3, 2, 3, 3, 3,\n",
              "       3, 3, 2, 2, 2, 2, 3, 2, 2, 2, 2, 2])"
            ]
          },
          "metadata": {},
          "execution_count": 42
        }
      ]
    },
    {
      "cell_type": "code",
      "source": [
        "np.unique(y,return_counts=True)"
      ],
      "metadata": {
        "colab": {
          "base_uri": "https://localhost:8080/"
        },
        "id": "wrHyb2Vx5bCs",
        "outputId": "3109af9a-18bf-4c35-c78e-b038fe693ae1"
      },
      "execution_count": null,
      "outputs": [
        {
          "output_type": "execute_result",
          "data": {
            "text/plain": [
              "(array([ 0,  1,  2,  3,  4,  5,  6,  7,  8,  9, 10, 11, 12, 13, 14, 15, 16,\n",
              "        17, 18, 19, 20, 21, 22, 23], dtype=int32),\n",
              " array([49, 34, 30, 18, 33, 35, 25, 44, 20, 24, 27, 34, 17, 34, 24, 25, 26,\n",
              "        28, 24, 24, 24, 21, 21, 19]))"
            ]
          },
          "metadata": {},
          "execution_count": 43
        }
      ]
    },
    {
      "cell_type": "code",
      "source": [
        "plt.figure(figsize=(10,5))\n",
        "for i in range(k):\n",
        "  plt.scatter(x[y==i,0],x[y==i,1],label=f'Cluster{i}')\n",
        "plt.scatter(model.cluster_centers_[:,0],model.cluster_centers_[:,1],s=300,c='green',label='Centroids')\n",
        "  \n",
        "plt.legend()"
      ],
      "metadata": {
        "colab": {
          "base_uri": "https://localhost:8080/",
          "height": 431
        },
        "id": "oTykRNQp6xdV",
        "outputId": "fc253446-1a2b-4187-af2c-7332a69142c5"
      },
      "execution_count": null,
      "outputs": [
        {
          "output_type": "execute_result",
          "data": {
            "text/plain": [
              "<matplotlib.legend.Legend at 0x7f51ef8e43d0>"
            ]
          },
          "metadata": {},
          "execution_count": 44
        },
        {
          "output_type": "display_data",
          "data": {
            "text/plain": [
              "<Figure size 720x360 with 1 Axes>"
            ],
            "image/png": "[encoded data removed]"
          },
          "metadata": {
            "needs_background": "light"
          }
        }
      ]
    },
    {
      "cell_type": "code",
      "source": [],
      "metadata": {
        "id": "R-sdN66u8Qw7"
      },
      "execution_count": null,
      "outputs": []
    }
  ]
}